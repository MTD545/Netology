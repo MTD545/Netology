{
 "cells": [
  {
   "cell_type": "code",
   "execution_count": 4,
   "metadata": {},
   "outputs": [
    {
     "name": "stdout",
     "output_type": "stream",
     "text": [
      "Насколько проще было бы писать программы, если бы не заказчики\n",
      "Насколько проще было бы писать программы, если бы не заказчики\n",
      "Фразы равной длины\n"
     ]
    }
   ],
   "source": [
    "#Задание 1 Даны 2 переменных, в которых хранятся строки произвольной длины: phrase_1 и phrase_2. \n",
    "#Напишите код, который проверяет какая из этих строк длиннее.\n",
    "\n",
    "phrase_1 = input()\n",
    "phrase_2 = input()\n",
    "if len(phrase_1) > len(phrase_2):\n",
    "    print('Фраза 1 длиннее фразы 2')\n",
    "elif len(phrase_1) < len(phrase_2):\n",
    "    print('Фраза 2 длиннее фразы 1') \n",
    "else:\n",
    "    print('Фразы равной длины')"
   ]
  },
  {
   "cell_type": "code",
   "execution_count": 13,
   "metadata": {},
   "outputs": [
    {
     "name": "stdout",
     "output_type": "stream",
     "text": [
      "введите год через четыре цифры: 2019\n",
      "Обычный год\n"
     ]
    }
   ],
   "source": [
    "#Задание 2 Дана переменная, в которой хранится четырехзначное число (год). \n",
    "#Необходимо написать программу, которая выведет, является ли данный год високосным или обычным.\n",
    "\n",
    "year = int(input('введите год через четыре цифры: '))\n",
    "if year % 4 != 0:\n",
    "    print('Обычный год')\n",
    "elif year % 100 == 0:\n",
    "    if year % 400 == 0:\n",
    "        print('Високосный год')\n",
    "    else:\n",
    "        print('Обычный год')\n",
    "else:\n",
    "    print('Високосный год')"
   ]
  },
  {
   "cell_type": "code",
   "execution_count": 19,
   "metadata": {},
   "outputs": [
    {
     "name": "stdout",
     "output_type": "stream",
     "text": [
      "Введите день: 29 \n",
      "Введите месяц: октябрь\n",
      "Ваш знак зодиака: Скорпион\n"
     ]
    }
   ],
   "source": [
    "#Задание Необходимо написать программу, которая будет запрашивать у пользователя месяц и дату рождения\n",
    "#и выводить соответствующий знак зодиака.\n",
    "\n",
    "date = int(input('Введите день: '))\n",
    "month = input('Введите месяц: ')\n",
    "if (date >= 21 and date <= 31 and month == 'март') or (month == 'апрель' and date >= 1 and date <= 19):\n",
    "    print('Ваш знак зодиака: Овен')\n",
    "elif (date >= 20 and date <= 30 and month == 'апрель') or (month == 'май' and date >= 1 and date <= 20):\n",
    "    print('Ваш знак зодиака: Телец')\n",
    "elif (date >= 21 and date <= 31 and month == 'май') or (month == 'июнь' and date >= 1 and date <= 21):\n",
    "    print('Ваш знак зодиака: Близнецы')\n",
    "elif (date >= 22 and date <= 30 and month == 'июнь') or (month == 'июль' and date >= 1 and date <= 22):\n",
    "    print('Ваш знак зодиака: Рак')\n",
    "elif (date >= 23 and date <= 31 and month == 'июль') or (month == 'август' and date >= 1 and date <= 22):\n",
    "    print('Ваш знак зодиака: Лев') \n",
    "elif (date >= 23 and date <= 31 and month == 'август') or (month == 'сентябрь' and date >= 1 and date <= 22):\n",
    "    print('Ваш знак зодиака: Дева')\n",
    "elif (date >= 23 and date <= 30 and month == 'сентябрь') or (month == 'октябрь' and date>=1 and date<=23):\n",
    "    print('Ваш знак зодиака: Весы')\n",
    "elif (date >= 24 and date <= 31 and month == 'октябрь') or (month == 'ноябрь' and date >= 1 and date <= 22):\n",
    "    print('Ваш знак зодиака: Скорпион')\n",
    "elif (date >= 23 and date <= 30 and month == 'ноябрь') or (month == 'декабрь' and date >= 1 and date <= 21):\n",
    "    print('Ваш знак зодиака: Стрелец')\n",
    "elif (date >= 22 and date <= 31 and month == 'декабрь') or (month == 'январь' and date >= 1 and date <= 20):\n",
    "    print('Ваш знак зодиака: Козерог')\n",
    "elif (date >= 21 and date <= 31 and month == 'январь') or( month == 'февраль' and date >= 1 and date <= 18):\n",
    "    print('Ваш знак зодиака: Водолей')\n",
    "else:\n",
    "    print('Ваш знак зодиака: Рыбы')"
   ]
  },
  {
   "cell_type": "code",
   "execution_count": 26,
   "metadata": {},
   "outputs": [
    {
     "name": "stdout",
     "output_type": "stream",
     "text": [
      "Упаковка для лыж\n"
     ]
    }
   ],
   "source": [
    "#Задание 4 Вам нужно написать программу для подбора упаковок по размерам товара. \n",
    "#Размеры хранятся в переменных (в сантиметрах)\n",
    "\n",
    "width = 10\n",
    "length = 205\n",
    "height = 5\n",
    "if length >= 200:\n",
    "    print('Упаковка для лыж')\n",
    "elif width < 15 and length < 15 and height < 15:\n",
    "    print('Коробка №1')\n",
    "elif (width >= 15 and width <= 50) or (lenght >= 15 and lenght <= 50) or (height >= 15 and height <= 50):\n",
    "    print('Коробка №2')\n",
    "else:\n",
    "    print('Стандартная коробка №3')"
   ]
  },
  {
   "cell_type": "code",
   "execution_count": 46,
   "metadata": {},
   "outputs": [
    {
     "name": "stdout",
     "output_type": "stream",
     "text": [
      "введите шестизначное число: 456893\n",
      "Несчастливый билет\n"
     ]
    }
   ],
   "source": [
    "#Дана переменная, в которой хранится шестизначное число (номер проездного билета).\n",
    "#Напишите программу, которая будет определять, является ли данный билет “счастливым”.\n",
    "#Билет считается счастливым, если сумма первых трех цифр совпадает с суммой последних трех цифр номера.\n",
    "\n",
    "num_0 = int(input('введите шестизначное число: '))\n",
    "num_1 = num_0 // 100000\n",
    "num_2 = num_0 % 100000 // 10000\n",
    "num_3 = num_0 % 10000 // 1000\n",
    "num_4 = num_0 % 1000 // 100\n",
    "num_5 = num_0 % 100 // 10\n",
    "num_6 = num_0 % 10\n",
    "if (num_1 + num_2 + num_3) == (num_4 + num_5 + num_6):\n",
    "    print('Счастливый билет')\n",
    "else: \n",
    "    print('Несчастливый билет')"
   ]
  },
  {
   "cell_type": "code",
   "execution_count": 56,
   "metadata": {},
   "outputs": [
    {
     "name": "stdout",
     "output_type": "stream",
     "text": [
      "Введите тип фигуры: круг\n",
      "Введите радиус: 10\n",
      "314.1\n"
     ]
    }
   ],
   "source": [
    "#Напишите программу, которая сможет вычислять площади трех фигур (круг, треугольник и прямоугольник).\n",
    "#Тип фигуры запрашиваем через пользовательский ввод, после чего делаем запрос характеристик фигуры:\n",
    "# если пользователь выбрал круг, запрашиваем его радиус,\n",
    "#если треугольник – длины трех его сторон;\n",
    "#если прямоугольник – длины двух его сторон.\n",
    "\n",
    "type_f = input('Введите тип фигуры: ')\n",
    "if type_f == 'круг': \n",
    "    print(int(input('Введите радиус: ')) ** 2 * 3.141)\n",
    "elif type_f == 'треугольник':\n",
    "    a = int(input('Введите длину стороны а: '))\n",
    "    b = int(input('Введите длину стороны b: '))\n",
    "    c = int(input('Введите длину стороны c: '))\n",
    "    p = (a + b + c) / 2\n",
    "    print((p * (p - a) * (p - b) * (p - c)) ** (1/2))\n",
    "elif type_f == 'прямоугольник':\n",
    "    a = int(input('Введите длину стороны а: '))\n",
    "    b = int(input('Введите длину стороны b: '))\n",
    "    print(a * b)\n",
    "else:\n",
    "    print('Введите правильный тип фигуры')"
   ]
  },
  {
   "cell_type": "code",
   "execution_count": null,
   "metadata": {},
   "outputs": [],
   "source": []
  }
 ],
 "metadata": {
  "kernelspec": {
   "display_name": "Python 3",
   "language": "python",
   "name": "python3"
  },
  "language_info": {
   "codemirror_mode": {
    "name": "ipython",
    "version": 3
   },
   "file_extension": ".py",
   "mimetype": "text/x-python",
   "name": "python",
   "nbconvert_exporter": "python",
   "pygments_lexer": "ipython3",
   "version": "3.7.6"
  }
 },
 "nbformat": 4,
 "nbformat_minor": 4
}
