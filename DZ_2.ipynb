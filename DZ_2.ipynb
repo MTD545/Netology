{
 "cells": [
  {
   "cell_type": "code",
   "execution_count": 1,
   "metadata": {},
   "outputs": [
    {
     "name": "stdout",
     "output_type": "stream",
     "text": [
      "Введите слово: testing\n",
      "t\n"
     ]
    }
   ],
   "source": [
    "#Дана переменная, в которой хранится слово из латинских букв. Напишите код, который выводит на экран:\n",
    "# среднюю букву, если число букв в слове четное;две средних буквы, если число букв нечетное.\n",
    "# В задании наоборот написано :) test = ES\n",
    "\n",
    "x = input('Введите слово: ')\n",
    "if len(x) % 2 == 0:\n",
    "    print( x [ int (len(x) / 2 - 1) : int( len(x) / 2 + 1)])\n",
    "else:\n",
    "    print( x [ int (len(x) // 2 )])"
   ]
  },
  {
   "cell_type": "code",
   "execution_count": 2,
   "metadata": {},
   "outputs": [
    {
     "name": "stdout",
     "output_type": "stream",
     "text": [
      "Введите число: 3\n",
      "Введите число: 4\n",
      "Введите число: 8\n",
      "Введите число: 9\n",
      "Введите число: 0\n",
      "24\n"
     ]
    }
   ],
   "source": [
    "#Напишите программу, которая последовательно запрашивает у пользователя числа (по одному за раз) и \n",
    "#после первого нуля выводит сумму всех ранее введенных чисел.\n",
    "\n",
    "number = int(input('Введите число: '))\n",
    "sum_number = 0 \n",
    "while number != 0:\n",
    "    sum_number = sum_number + number\n",
    "    number = int(input('Введите число: '))\n",
    "else:\n",
    "    print(sum_number)"
   ]
  },
  {
   "cell_type": "code",
   "execution_count": 4,
   "metadata": {},
   "outputs": [
    {
     "name": "stdout",
     "output_type": "stream",
     "text": [
      "Alex и Emma\n",
      "Arthur и Kate\n",
      "John и Kira\n",
      "Michael и Liza\n",
      "Peter и Trisha\n"
     ]
    }
   ],
   "source": [
    "#Мы делаем MVP dating-сервиса, и у нас есть список парней и девушек.Выдвигаем гипотезу: лучшие рекомендации \n",
    "#мы получим, если просто отсортируем имена по алфавиту и познакомим людей с одинаковыми индексами после сортировки!\n",
    "#Но мы не будем никого знакомить, если кто-то может остаться без пары:\n",
    "\n",
    "boys = ['Peter', 'Alex', 'John', 'Arthur', 'Michael']\n",
    "girls = ['Kate', 'Liza', 'Kira', 'Emma', 'Trisha']\n",
    "if len(boys) == len(girls):\n",
    "    boys.sort()\n",
    "    girls.sort()\n",
    "    match = zip(boys, girls)\n",
    "    for boy, girl in match:\n",
    "        print(boy, 'и', girl)\n",
    "else:\n",
    "    print('Внимание, кто-то может остаться без пары!')"
   ]
  },
  {
   "cell_type": "code",
   "execution_count": 6,
   "metadata": {},
   "outputs": [
    {
     "name": "stdout",
     "output_type": "stream",
     "text": [
      "Thailand  -  23.9\n",
      "Germany  -  13.8\n",
      "Russia  -  3.7\n",
      "Poland  -  12.0\n"
     ]
    }
   ],
   "source": [
    "#У нас есть список, содержащий информацию о среднедневной температуре в Фаренгейтах за произвольный период \n",
    "#по странам (структура данных в примере). Необходимо написать код, который рассчитает среднюю температуру \n",
    "#за период в Цельсиях(!) для каждой страны.\n",
    "\n",
    "countries_temperature_ = [\n",
    "['Thailand', [75.2, 77, 78.8, 73.4, 68, 75.2, 77]],\n",
    "['Germany', [57.2, 55.4, 59, 59, 53.6]],\n",
    "['Russia', [35.6, 37.4, 39.2, 41, 42.8, 39.2, 35.6]],\n",
    "['Poland', [50, 50, 53.6, 57.2, 55.4, 55.4]]\n",
    "]\n",
    "\n",
    "index_ = 0\n",
    "for row in countries_temperature_:\n",
    "    new = countries_temperature_[index_]\n",
    "    Sum_2 = (sum(new[1]) / len(new[1]) - 32) * (5/9)\n",
    "    print(new[0],' - ', round(Sum_2, 1))\n",
    "    index_ += 1"
   ]
  }
 ],
 "metadata": {
  "kernelspec": {
   "display_name": "Python 3",
   "language": "python",
   "name": "python3"
  },
  "language_info": {
   "codemirror_mode": {
    "name": "ipython",
    "version": 3
   },
   "file_extension": ".py",
   "mimetype": "text/x-python",
   "name": "python",
   "nbconvert_exporter": "python",
   "pygments_lexer": "ipython3",
   "version": "3.7.6"
  }
 },
 "nbformat": 4,
 "nbformat_minor": 4
}
